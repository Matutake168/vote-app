{
  "nbformat": 4,
  "nbformat_minor": 0,
  "metadata": {
    "colab": {
      "provenance": [],
      "authorship_tag": "ABX9TyNhV3+PfEVtBIgqBOthLKUG",
      "include_colab_link": true
    },
    "kernelspec": {
      "name": "python3",
      "display_name": "Python 3"
    },
    "language_info": {
      "name": "python"
    }
  },
  "cells": [
    {
      "cell_type": "markdown",
      "metadata": {
        "id": "view-in-github",
        "colab_type": "text"
      },
      "source": [
        "<a href=\"https://colab.research.google.com/github/Matutake168/vote-app/blob/main/touhyou-gakuensai.ipynb\" target=\"_parent\"><img src=\"https://colab.research.google.com/assets/colab-badge.svg\" alt=\"Open In Colab\"/></a>"
      ]
    },
    {
      "cell_type": "code",
      "execution_count": null,
      "metadata": {
        "id": "2d_9ZIrFdbYR"
      },
      "outputs": [],
      "source": [
        "import streamlit as st\n",
        "\n",
        "# 投票先一覧\n",
        "dantai = list(range(1, 11))\n",
        "\n",
        "# セッション状態の初期化（初回のみ）\n",
        "if \"vote_counts\" not in st.session_state:\n",
        "    st.session_state.vote_counts = {num: 0 for num in dantai}\n",
        "if \"touched_ids\" not in st.session_state:\n",
        "    st.session_state.touched_ids = []\n",
        "\n",
        "st.title(\"🎉 学園祭 投票システム 🎉\")\n",
        "\n",
        "# 学年選択\n",
        "gakunen = st.selectbox(\"あなたの学年は？\", [\"M7\", \"M8\", \"C9\", \"C10\", \"C11\", \"C12\"])\n",
        "\n",
        "# 学籍番号入力\n",
        "gakuban = st.text_input(\"学籍番号を入力してください（例：a2024013）\").lower().strip()\n",
        "\n",
        "# 投票先選択\n",
        "saki = st.selectbox(\"投票したい団体を選んでください：\", dantai)\n",
        "\n",
        "# 投票ボタン\n",
        "if st.button(\"投票！\"):\n",
        "    if len(gakuban) == 8 and gakuban[0] in ['a', 'b'] and gakuban[1:].isdigit():\n",
        "        if gakuban not in st.session_state.touched_ids:\n",
        "            st.session_state.touched_ids.append(gakuban)\n",
        "            st.session_state.vote_counts[saki] += 1\n",
        "            st.success(\"✅ 投票が完了しました！ありがとう！\")\n",
        "        else:\n",
        "            st.error(\"⚠ この学籍番号はすでに投票済みです。\")\n",
        "    else:\n",
        "        st.error(\"⚠ 正しい形式の学籍番号を入力してください（例：a2024013）\")\n",
        "\n",
        "# 現在の票数表示\n",
        "st.subheader(\"📊 現在の投票状況\")\n",
        "for num in dantai:\n",
        "    st.write(f\"団体{num}: {st.session_state.vote_counts[num]}票\")"
      ]
    },
    {
      "cell_type": "markdown",
      "source": [
        "https://vote-app-yf22jybrzdrpqe5t5b6vda.streamlit.app/"
      ],
      "metadata": {
        "id": "4Z4f0b35jain"
      }
    },
    {
      "cell_type": "markdown",
      "source": [
        "https://github.com/Matutake168/vote-app?tab=readme-ov-file#vote-app"
      ],
      "metadata": {
        "id": "jwey1j0NjfwR"
      }
    },
    {
      "cell_type": "markdown",
      "source": [
        "https://github.com/Matutake168"
      ],
      "metadata": {
        "id": "jj2JLgxFjw6I"
      }
    }
  ]
}